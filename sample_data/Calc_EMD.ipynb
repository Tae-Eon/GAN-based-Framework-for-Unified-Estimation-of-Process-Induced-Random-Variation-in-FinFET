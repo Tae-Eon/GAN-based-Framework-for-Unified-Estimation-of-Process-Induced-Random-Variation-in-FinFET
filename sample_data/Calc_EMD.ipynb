{
 "cells": [
  {
   "cell_type": "code",
   "execution_count": 1,
   "metadata": {},
   "outputs": [],
   "source": [
    "import os\n",
    "import numpy as np\n",
    "import matplotlib.pyplot as plt\n",
    "import scipy.io as sio\n",
    "import pandas as pd\n",
    "import seaborn as sns\n",
    "import pickle\n",
    "from pandas import ExcelWriter\n",
    "from pandas import ExcelFile\n",
    "import sample_utils\n",
    "\n",
    "%matplotlib inline"
   ]
  },
  {
   "cell_type": "markdown",
   "metadata": {},
   "source": [
    "# Import Data"
   ]
  },
  {
   "cell_type": "code",
   "execution_count": 2,
   "metadata": {},
   "outputs": [
    {
     "name": "stdout",
     "output_type": "stream",
     "text": [
      "(10000, 6) (10000, 6) (200, 6) (200, 6)\n",
      "\n",
      "mean: [6.9403541e-12 3.4309983e-01 3.3316767e-01 1.4782393e-05 3.5800593e-05\n",
      " 6.1970989e+01]\n",
      "std: [1.2889904e-11 2.5909597e-02 2.7164428e-02 7.1507980e-06 1.3731923e-05\n",
      " 1.3432132e+00]\n",
      "min: [8.407e-14 2.400e-01 2.280e-01 3.816e-06 8.906e-06 6.030e+01]\n",
      "max: [1.9850e-10 4.3600e-01 4.2800e-01 3.5650e-05 7.6300e-05 9.3065e+01]\n"
     ]
    }
   ],
   "source": [
    "\"\"\"\n",
    "\n",
    "<< TRAIN DATA >>\n",
    "\n",
    "FOR GLOBAL USAGE\n",
    "\n",
    "train_Y_mean : (num_of_cycle, output_dim)\n",
    "train_Y_std  : (num_of_cycle, output_dim)\n",
    "train_Y_min  : (num_of_cycle, output_dim)\n",
    "train_Y_std  : (num_of_cycle, output_dim)\n",
    "\n",
    "\"\"\"\n",
    "# 'rdfwfv_wfv_rdf_train2020_RDFWFV_20201222_V10.xlsx'\n",
    "\n",
    "file_path = 'rdfwfv_wfv_rdf_train2020_RDFWFV_20201222_V10.xlsx'\n",
    "\n",
    "num_of_cycle = 200\n",
    "num_in_cycle = 50\n",
    "\n",
    "data = np.load('../data_handler/'+file_path+'.npy', allow_pickle=True)\n",
    "X_all, Y_all, X_per_cycle, Y_per_cycle = data[0], data[1], data[2], data[3]\n",
    "print(data[0].shape, data[1].shape, data[2].shape, data[3].shape)\n",
    "print()\n",
    "\n",
    "train_Y_mean = np.mean(Y_all[:num_in_cycle*num_of_cycle], axis=0, dtype=np.float32)\n",
    "train_Y_std = np.std(Y_all[:num_in_cycle*num_of_cycle], axis=0, dtype=np.float32)\n",
    "\n",
    "train_Y_min = np.min(Y_all[:num_in_cycle*num_of_cycle], axis=0)\n",
    "train_Y_max = np.max(Y_all[:num_in_cycle*num_of_cycle], axis=0)\n",
    "\n",
    "print(\"mean:\", train_Y_mean)\n",
    "print(\"std:\", train_Y_std)\n",
    "print(\"min:\", train_Y_min)\n",
    "print(\"max:\", train_Y_max)"
   ]
  },
  {
   "cell_type": "code",
   "execution_count": 3,
   "metadata": {},
   "outputs": [
    {
     "name": "stdout",
     "output_type": "stream",
     "text": [
      "(4000, 6) (4000, 6) (16, 6) (16, 6)\n",
      "\n",
      " VARIABLES \n",
      "output_dim 6\n",
      "num_of_cycle 16\n",
      "num_in_cycle 250\n",
      "real_bin_num 10\n",
      "\n",
      "!! check !! test real shape (16, 250, 6)\n",
      "!! check !! X value ( especially its precision )\n",
      "\n",
      "[0.00000000e+00 5.78895870e+20 3.59561006e+19 2.88838939e-02\n",
      " 1.00000000e+00 0.00000000e+00]\n",
      "[0.00000000e+00 1.57080658e+19 1.19778254e+18 1.18212834e-02\n",
      " 1.00000000e+00 0.00000000e+00]\n",
      "[0.00000000e+00 1.97195192e+19 1.27521313e+18 3.02198477e-02\n",
      " 1.00000000e+00 0.00000000e+00]\n",
      "[0.00000000e+00 9.15906057e+20 1.15458844e+20 2.43231726e-02\n",
      " 1.00000000e+00 0.00000000e+00]\n",
      "[0.00000000e+00 4.90884204e+20 6.96683015e+19 1.91663741e-02\n",
      " 1.00000000e+00 0.00000000e+00]\n",
      "[6.90006771e-03 8.51545870e+19 8.25700721e+18 2.12625635e-02\n",
      " 0.00000000e+00 1.00000000e+00]\n",
      "[6.57265186e-03 1.74466960e+20 1.03200793e+19 2.63799659e-02\n",
      " 0.00000000e+00 1.00000000e+00]\n",
      "[1.85497107e-02 9.10148759e+19 8.11373190e+18 1.33503512e-02\n",
      " 0.00000000e+00 1.00000000e+00]\n",
      "[1.51214486e-02 7.96001377e+19 1.34431524e+19 3.71338970e-02\n",
      " 0.00000000e+00 1.00000000e+00]\n",
      "[5.76477267e-03 1.78541760e+19 1.45128022e+18 2.89983100e-02\n",
      " 0.00000000e+00 1.00000000e+00]\n",
      "[1.14038836e-02 1.31645367e+19 1.70961252e+18 2.03493061e-02\n",
      " 1.00000000e+00 1.00000000e+00]\n",
      "[6.92941109e-03 1.45486129e+19 2.04199471e+18 2.99891468e-02\n",
      " 1.00000000e+00 1.00000000e+00]\n",
      "[1.11500611e-02 5.83810867e+20 9.06778227e+19 3.58321489e-02\n",
      " 1.00000000e+00 1.00000000e+00]\n",
      "[5.99569405e-03 3.11638597e+20 4.11084838e+19 3.28533776e-02\n",
      " 1.00000000e+00 1.00000000e+00]\n",
      "[3.18145645e-03 2.78173540e+20 1.99814564e+19 3.62751273e-02\n",
      " 1.00000000e+00 1.00000000e+00]\n",
      "[1.33051257e-02 2.12039947e+19 2.46494333e+18 3.61370649e-02\n",
      " 1.00000000e+00 1.00000000e+00]\n"
     ]
    }
   ],
   "source": [
    "\"\"\"\n",
    "\n",
    "<< TEST DATA >>\n",
    "\n",
    "1) test_real : (num_of_cycle, sample_num, output_dim) (ex) (6, 250, 6)\n",
    "2) test_X_cycle : (num_of_cycle, input_dim)           (ex) (6, 7)\n",
    "\n",
    "\"\"\"\n",
    "\n",
    "file_path = '2021_RDFWFV_20210107.xlsx'\n",
    "\n",
    "data = np.load('../data_handler/'+file_path+'.npy', allow_pickle=True)\n",
    "\n",
    "X_all, Y_all, X_per_cycle, Y_per_cycle = data[0], data[1], data[2], data[3]\n",
    "print(data[0].shape, data[1].shape, data[2].shape, data[3].shape)\n",
    "print()\n",
    "\n",
    "test_real = Y_all\n",
    "\n",
    "output_dim = test_real.shape[1]\n",
    "num_of_cycle = 16\n",
    "real_bin_num = 10\n",
    "num_in_cycle = int(test_real.shape[0]/num_of_cycle)\n",
    "\n",
    "print(\" VARIABLES \")\n",
    "print(\"output_dim\", output_dim)\n",
    "print(\"num_of_cycle\", num_of_cycle)\n",
    "print(\"num_in_cycle\", num_in_cycle)\n",
    "print(\"real_bin_num\", real_bin_num)\n",
    "print()\n",
    "\n",
    "# for pair plot indexing\n",
    "test_X_cycle = X_per_cycle\n",
    "\n",
    "test_real = test_real.reshape(num_of_cycle, num_in_cycle, -1)\n",
    "# Y_mean = np.mean(test_real, axis=1, dtype=np.float32).reshape(num_of_cycle, 1, num_of_cycle)\n",
    "# Y_std = np.std(test_real, axis=1, dtype=np.float32).reshape(num_of_cycle, 1, num_of_cycle)\n",
    "\n",
    "print(\"!! check !! test real shape\", test_real.shape)\n",
    "print(\"!! check !! X value ( especially its precision )\")\n",
    "print()\n",
    "for i in range(num_of_cycle):\n",
    "    print(test_X_cycle[i])"
   ]
  },
  {
   "cell_type": "markdown",
   "metadata": {},
   "source": [
    "# Load samples and calculate EMD"
   ]
  },
  {
   "cell_type": "code",
   "execution_count": 4,
   "metadata": {},
   "outputs": [],
   "source": [
    "# ########################################  CHANGE HERE ####################################################################\n",
    "\n",
    "# name = 'naive_date_day6_data_rdfwfv_wfv_rdf_train2020_RDFWFV_20201222_V10.xlsx_model_ccgan_seed_0_lr_0.0003_0.001_hidden_dim_250_batch_size_32_noise_d_100_sample_num_250_tr_num_in_cycle_50_layer_2_kappa_0.005_kernel_sigma_0.01.pkl'\n",
    "\n",
    "# ##########################################################################################################################\n",
    "\n",
    "# with (open(name, \"rb\")) as openfile:\n",
    "#     result = pickle.load(openfile)\n",
    "\n",
    "# test_sample = result['test sample']\n",
    "\n",
    "# test_gen = test_sample\n",
    "# print('test_sample shape:', test_sample.shape)\n",
    "\n",
    "# num_of_cycle = test_gen.shape[0]\n",
    "# num_in_cycle = test_real.shape[1]\n",
    "# test_gen_sample_num = test_gen.shape[1]\n",
    "\n",
    "\n",
    "# print(\"test data sample num:\", test_gen_sample_num)\n",
    "# print(\"test data shape: \", test_gen.shape)\n",
    "\n",
    "# ###################### Calculate EMD ######################\n",
    "# real_bin_num = 10\n",
    "# minmax = 'train_real_global'\n",
    "# test_EMD_score_list, test_sink_score_list = sample_utils.new_EMD_all_pair_each_X_integral(generated_samples = test_gen, real_samples = test_real, real_bin_num=real_bin_num, num_of_cycle=num_of_cycle, min_list = train_Y_min, max_list = train_Y_max, train_mean=train_Y_mean, train_std = train_Y_std, minmax=minmax, check=False) \n",
    "# print('mean of test_EMD_score_list', np.mean(test_EMD_score_list))\n",
    "\n",
    "# ###################### Add 'EMD value' to file #####################\n",
    "# result['test EMD'] = test_EMD_score_list\n",
    "# with (open(name, \"wb\")) as openfile:\n",
    "#     pickle.dump(result, openfile)\n",
    "\n"
   ]
  },
  {
   "cell_type": "code",
   "execution_count": 5,
   "metadata": {},
   "outputs": [],
   "source": [
    "def load_samples_and_calcultae_EMD(filepath, real_bin_num = 10, minmax = 'train_real_global', real_samples = test_real, min_list = train_Y_min, max_list = train_Y_max, train_mean=train_Y_mean, train_std = train_Y_std):\n",
    "    with (open(name, \"rb\")) as openfile:\n",
    "        result = pickle.load(openfile)\n",
    "    test_gen = result['test sample']\n",
    "\n",
    "    \n",
    "    num_of_cycle = test_gen.shape[0]\n",
    "    num_in_cycle = test_real.shape[1]\n",
    "    test_gen_sample_num = test_gen.shape[1]\n",
    "\n",
    "\n",
    "    ###################### Calculate EMD ######################\n",
    "    test_EMD_score_list, test_sink_score_list = sample_utils.new_EMD_all_pair_each_X_integral(generated_samples = test_gen, real_samples = real_samples, real_bin_num=real_bin_num, num_of_cycle=num_of_cycle, min_list = train_Y_min, max_list = train_Y_max, train_mean=train_Y_mean, train_std = train_Y_std, minmax=minmax, check=False) \n",
    "    print('mean of test_EMD_score_list', np.mean(test_EMD_score_list))\n",
    "\n",
    "    ###################### Add 'EMD value' to file #####################\n",
    "    result['test EMD'] = test_EMD_score_list\n",
    "    with (open(name, \"wb\")) as openfile:\n",
    "        pickle.dump(result, openfile)\n",
    "    \n",
    "    return result"
   ]
  },
  {
   "cell_type": "code",
   "execution_count": 6,
   "metadata": {},
   "outputs": [],
   "source": [
    "name = 'naive_date_day6_data_rdfwfv_wfv_rdf_train2020_RDFWFV_20201222_V10.xlsx_model_ccgan_seed_0_lr_0.0003_0.001_hidden_dim_250_batch_size_32_noise_d_100_sample_num_250_tr_num_in_cycle_50_layer_2_kappa_0.005_kernel_sigma_0.5.pkl'"
   ]
  },
  {
   "cell_type": "code",
   "execution_count": 7,
   "metadata": {},
   "outputs": [
    {
     "ename": "FileNotFoundError",
     "evalue": "[Errno 2] No such file or directory: 'naive_date_day6_data_rdfwfv_wfv_rdf_train2020_RDFWFV_20201222_V10.xlsx_model_ccgan_seed_0_lr_0.0003_0.001_hidden_dim_250_batch_size_32_noise_d_100_sample_num_250_tr_num_in_cycle_50_layer_2_kappa_0.005_kernel_sigma_0.5.pkl'",
     "output_type": "error",
     "traceback": [
      "\u001b[0;31m---------------------------------------------------------------------------\u001b[0m",
      "\u001b[0;31mFileNotFoundError\u001b[0m                         Traceback (most recent call last)",
      "\u001b[0;32m<ipython-input-7-2b053cb6c4c1>\u001b[0m in \u001b[0;36m<module>\u001b[0;34m\u001b[0m\n\u001b[0;32m----> 1\u001b[0;31m \u001b[0mresult\u001b[0m\u001b[0;34m=\u001b[0m\u001b[0mload_samples_and_calcultae_EMD\u001b[0m\u001b[0;34m(\u001b[0m\u001b[0mname\u001b[0m\u001b[0;34m)\u001b[0m\u001b[0;34m\u001b[0m\u001b[0;34m\u001b[0m\u001b[0m\n\u001b[0m",
      "\u001b[0;32m<ipython-input-5-84540a222a98>\u001b[0m in \u001b[0;36mload_samples_and_calcultae_EMD\u001b[0;34m(filepath, real_bin_num, minmax, real_samples, min_list, max_list, train_mean, train_std)\u001b[0m\n\u001b[1;32m      1\u001b[0m \u001b[0;32mdef\u001b[0m \u001b[0mload_samples_and_calcultae_EMD\u001b[0m\u001b[0;34m(\u001b[0m\u001b[0mfilepath\u001b[0m\u001b[0;34m,\u001b[0m \u001b[0mreal_bin_num\u001b[0m \u001b[0;34m=\u001b[0m \u001b[0;36m10\u001b[0m\u001b[0;34m,\u001b[0m \u001b[0mminmax\u001b[0m \u001b[0;34m=\u001b[0m \u001b[0;34m'train_real_global'\u001b[0m\u001b[0;34m,\u001b[0m \u001b[0mreal_samples\u001b[0m \u001b[0;34m=\u001b[0m \u001b[0mtest_real\u001b[0m\u001b[0;34m,\u001b[0m \u001b[0mmin_list\u001b[0m \u001b[0;34m=\u001b[0m \u001b[0mtrain_Y_min\u001b[0m\u001b[0;34m,\u001b[0m \u001b[0mmax_list\u001b[0m \u001b[0;34m=\u001b[0m \u001b[0mtrain_Y_max\u001b[0m\u001b[0;34m,\u001b[0m \u001b[0mtrain_mean\u001b[0m\u001b[0;34m=\u001b[0m\u001b[0mtrain_Y_mean\u001b[0m\u001b[0;34m,\u001b[0m \u001b[0mtrain_std\u001b[0m \u001b[0;34m=\u001b[0m \u001b[0mtrain_Y_std\u001b[0m\u001b[0;34m)\u001b[0m\u001b[0;34m:\u001b[0m\u001b[0;34m\u001b[0m\u001b[0;34m\u001b[0m\u001b[0m\n\u001b[0;32m----> 2\u001b[0;31m     \u001b[0;32mwith\u001b[0m \u001b[0;34m(\u001b[0m\u001b[0mopen\u001b[0m\u001b[0;34m(\u001b[0m\u001b[0mname\u001b[0m\u001b[0;34m,\u001b[0m \u001b[0;34m\"rb\"\u001b[0m\u001b[0;34m)\u001b[0m\u001b[0;34m)\u001b[0m \u001b[0;32mas\u001b[0m \u001b[0mopenfile\u001b[0m\u001b[0;34m:\u001b[0m\u001b[0;34m\u001b[0m\u001b[0;34m\u001b[0m\u001b[0m\n\u001b[0m\u001b[1;32m      3\u001b[0m         \u001b[0mresult\u001b[0m \u001b[0;34m=\u001b[0m \u001b[0mpickle\u001b[0m\u001b[0;34m.\u001b[0m\u001b[0mload\u001b[0m\u001b[0;34m(\u001b[0m\u001b[0mopenfile\u001b[0m\u001b[0;34m)\u001b[0m\u001b[0;34m\u001b[0m\u001b[0;34m\u001b[0m\u001b[0m\n\u001b[1;32m      4\u001b[0m     \u001b[0mtest_gen\u001b[0m \u001b[0;34m=\u001b[0m \u001b[0mresult\u001b[0m\u001b[0;34m[\u001b[0m\u001b[0;34m'test sample'\u001b[0m\u001b[0;34m]\u001b[0m\u001b[0;34m\u001b[0m\u001b[0;34m\u001b[0m\u001b[0m\n\u001b[1;32m      5\u001b[0m \u001b[0;34m\u001b[0m\u001b[0m\n",
      "\u001b[0;31mFileNotFoundError\u001b[0m: [Errno 2] No such file or directory: 'naive_date_day6_data_rdfwfv_wfv_rdf_train2020_RDFWFV_20201222_V10.xlsx_model_ccgan_seed_0_lr_0.0003_0.001_hidden_dim_250_batch_size_32_noise_d_100_sample_num_250_tr_num_in_cycle_50_layer_2_kappa_0.005_kernel_sigma_0.5.pkl'"
     ]
    }
   ],
   "source": [
    "result=load_samples_and_calcultae_EMD(name)"
   ]
  },
  {
   "cell_type": "code",
   "execution_count": null,
   "metadata": {},
   "outputs": [],
   "source": []
  }
 ],
 "metadata": {
  "kernelspec": {
   "display_name": "Python 3",
   "language": "python",
   "name": "python3"
  },
  "language_info": {
   "codemirror_mode": {
    "name": "ipython",
    "version": 3
   },
   "file_extension": ".py",
   "mimetype": "text/x-python",
   "name": "python",
   "nbconvert_exporter": "python",
   "pygments_lexer": "ipython3",
   "version": "3.7.6"
  }
 },
 "nbformat": 4,
 "nbformat_minor": 4
}
